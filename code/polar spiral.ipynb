{
  "cells": [
    {
      "cell_type": "code",
      "execution_count": null,
      "metadata": {
        "id": "ptBIFcg-ztJu"
      },
      "outputs": [],
      "source": [
        "import math\n",
        "import sympy\n",
        "import numpy as np\n",
        "import matplotlib.pyplot as plt"
      ]
    },
    {
      "cell_type": "code",
      "execution_count": null,
      "metadata": {},
      "outputs": [],
      "source": [
        "# Enable inline plotting for Jupyter Notebook\n",
        "%matplotlib inline\n",
        "\n",
        "# Configure high-resolution plotting for Retina displays\n",
        "%config InlineBackend.figure_format='retina'\n",
        "\n",
        "# Set plot style to dark background\n",
        "plt.style.use('dark_background')\n",
        "\n",
        "def get_coordinate(num):\n",
        "    \"\"\"\n",
        "    Generate polar coordinates for a given number to form a polar spiral.\n",
        "\n",
        "    Parameters:\n",
        "    num (int or array-like): The number or array of numbers for which polar coordinates are to be generated.\n",
        "\n",
        "    Returns:\n",
        "    tuple or ndarray: Polar coordinates (r, theta) corresponding to the given number or array of numbers.\n",
        "    \"\"\"\n",
        "    return num * np.cos(num), num * np.sin(num)\n",
        "\n",
        "def create_plot(nums, figsize=10, s=1):\n",
        "    \"\"\"\n",
        "    Create and save a scatter plot of coordinates generated from the given numbers.\n",
        "\n",
        "    Parameters:\n",
        "    nums (iterable): Iterable containing the numbers for which polar coordinates are to be generated.\n",
        "    figsize (int or float, optional): Size of the figure (both width and height). Defaults to 10.\n",
        "    s (int or float, optional): Size of the markers. Defaults to 1.\n",
        "    \"\"\"\n",
        "    # Convert nums to a numpy array for compatibility\n",
        "    nums = np.array(list(nums))\n",
        "\n",
        "    # Generate polar coordinates using the get_coordinate function\n",
        "    r, theta = get_coordinate(nums)\n",
        "\n",
        "    # Create a figure with specified size\n",
        "    plt.figure(figsize=(figsize, figsize))\n",
        "\n",
        "    # Turn off axis\n",
        "    plt.axis(\"off\")\n",
        "\n",
        "    # Create a scatter plot of the generated polar coordinates\n",
        "    plt.scatter(theta, r, s=s, color='white')\n",
        "\n",
        "    # Get current figure\n",
        "    fig1 = plt.gcf()\n",
        "\n",
        "    # Show the plot\n",
        "    plt.show()\n",
        "\n",
        "    # Redraw the plot\n",
        "    plt.draw()\n",
        "\n",
        "    # Save the plot as PDF, JPEG, and PNG formats\n",
        "    fig1.savefig('polar_spiral.pdf', dpi=100)\n",
        "    fig1.savefig('polar_spiral.jpg', dpi=100)\n",
        "    fig1.savefig('polar_spiral.png', dpi=100)"
      ]
    },
    {
      "cell_type": "code",
      "execution_count": null,
      "metadata": {},
      "outputs": [],
      "source": [
        "# Initialize an empty list to store numbers\n",
        "L = list()\n",
        "\n",
        "# Open the file containing numbers\n",
        "# txt file should be having line separated integers (for better clarity)\n",
        "fhand = open(file_name)\n",
        "\n",
        "# Read numbers from the file and append them to the list\n",
        "for i in fhand:\n",
        "    if i != '\\n':\n",
        "        L.append(int(i.rstrip()))\n",
        "\n",
        "# Create and display the polar spiral plot using the numbers read from the file\n",
        "create_plot(L)"
      ]
    }
  ],
  "metadata": {
    "colab": {
      "provenance": []
    },
    "kernelspec": {
      "display_name": "Python 3",
      "name": "python3"
    },
    "language_info": {
      "name": "python"
    }
  },
  "nbformat": 4,
  "nbformat_minor": 0
}
